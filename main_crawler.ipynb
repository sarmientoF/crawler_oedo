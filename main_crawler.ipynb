{
 "cells": [
  {
   "cell_type": "markdown",
   "id": "4f20e530",
   "metadata": {},
   "source": [
    "## Import base functions for crawling"
   ]
  },
  {
   "cell_type": "code",
   "execution_count": 1,
   "id": "d1f6501e",
   "metadata": {},
   "outputs": [],
   "source": [
    "from base_crawler import *\n"
   ]
  },
  {
   "cell_type": "markdown",
   "id": "24fca336",
   "metadata": {},
   "source": [
    "## Set the wanted courses"
   ]
  },
  {
   "cell_type": "code",
   "execution_count": null,
   "id": "64c2db94",
   "metadata": {},
   "outputs": [],
   "source": [
    "wanted_courses_links = [\"https://learning.edx.org/course/course-v1:StanfordOnline+CSX0001+1T2020/home\",\n",
    "                       \"https://learning.edx.org/course/course-v1:HarvardX+CS50+X/home\",\n",
    "                       \"https://learning.edx.org/course/course-v1:HarvardX+CS50G+Games/home\",\n",
    "                        \"https://learning.edx.org/course/course-v1:IBM+CV0101EN+1T2021/home\",\n",
    "                       \"https://learning.edx.org/course/course-v1:HarvardX+CS50W+Web/home\",\n",
    "                       \"https://learning.edx.org/course/course-v1:HarvardX+CS50AI+1T2020/home\"]"
   ]
  },
  {
   "cell_type": "markdown",
   "id": "75ab85c6",
   "metadata": {},
   "source": [
    "## Loging and get registered courses"
   ]
  },
  {
   "cell_type": "code",
   "execution_count": 2,
   "id": "49b61a43",
   "metadata": {},
   "outputs": [],
   "source": [
    "user_email = \"INSET_YOUR_EMAIL_HERE\"\n",
    "password = \"INSERT_PASSWORD_HERE\"\n",
    "\n",
    "courses, headers, username, BASE_BLOCK_URL = get_courses_by_url(user_email, password, IS_EDGE=False)"
   ]
  },
  {
   "cell_type": "markdown",
   "id": "bc60e9a7",
   "metadata": {},
   "source": [
    "## Filter the courses "
   ]
  },
  {
   "cell_type": "code",
   "execution_count": null,
   "id": "49669812",
   "metadata": {},
   "outputs": [],
   "source": [
    "courses = [course for course in courses if course.url in wanted_courses_links]"
   ]
  },
  {
   "cell_type": "code",
   "execution_count": null,
   "id": "78e60ef6",
   "metadata": {},
   "outputs": [],
   "source": [
    "courses"
   ]
  },
  {
   "cell_type": "markdown",
   "id": "9be5306d",
   "metadata": {},
   "source": [
    "## Get course structure (structure.json & html files for each unit)"
   ]
  },
  {
   "cell_type": "code",
   "execution_count": null,
   "id": "a29383e0",
   "metadata": {},
   "outputs": [],
   "source": [
    "getCourseStructure(courses, username, headers, BASE_BLOCK_URL)"
   ]
  },
  {
   "cell_type": "markdown",
   "id": "354d3ffe",
   "metadata": {},
   "source": [
    "## Get quizes, texts & videos  "
   ]
  },
  {
   "cell_type": "code",
   "execution_count": null,
   "id": "6fbcbe22",
   "metadata": {},
   "outputs": [],
   "source": [
    "for course in courses:\n",
    "    getCourseVTQ(course.id)"
   ]
  },
  {
   "cell_type": "code",
   "execution_count": 5,
   "id": "334be10b",
   "metadata": {},
   "outputs": [
    {
     "name": "stderr",
     "output_type": "stream",
     "text": [
      "ERROR: Unsupported URL: https://www.youtube.com/\n",
      "ERROR: Video unavailable\n",
      "ERROR: Video unavailable\n"
     ]
    }
   ],
   "source": [
    "## Faster option\n",
    "with multiprocessing.Pool(processes=40) as pool:\n",
    "    async_results = []\n",
    "    for course in courses:\n",
    "        async_result = pool.apply_async(\n",
    "            func=getCourseVTQ, args=(course.id,))\n",
    "        async_results.append(async_result)\n",
    "    for result in async_results:\n",
    "        result.get()"
   ]
  },
  {
   "cell_type": "markdown",
   "id": "17daa744",
   "metadata": {},
   "source": [
    "##  Get stats from courses"
   ]
  },
  {
   "cell_type": "code",
   "execution_count": 7,
   "id": "802c6031",
   "metadata": {},
   "outputs": [],
   "source": [
    "for course in courses:\n",
    "    getCourseStats(course.id)"
   ]
  },
  {
   "cell_type": "markdown",
   "id": "54855c4d",
   "metadata": {},
   "source": [
    "# Redability"
   ]
  },
  {
   "cell_type": "code",
   "execution_count": 11,
   "id": "86a22ed2",
   "metadata": {},
   "outputs": [],
   "source": [
    "for course in courses:\n",
    "    getRedabilityCSV(course.id)"
   ]
  }
 ],
 "metadata": {
  "kernelspec": {
   "display_name": "Python (edx crawler)",
   "language": "python",
   "name": "edx_env"
  },
  "language_info": {
   "codemirror_mode": {
    "name": "ipython",
    "version": 3
   },
   "file_extension": ".py",
   "mimetype": "text/x-python",
   "name": "python",
   "nbconvert_exporter": "python",
   "pygments_lexer": "ipython3",
   "version": "3.9.6"
  }
 },
 "nbformat": 4,
 "nbformat_minor": 5
}
