{
 "cells": [
  {
   "cell_type": "code",
   "execution_count": 1,
   "id": "cde87523",
   "metadata": {},
   "outputs": [
    {
     "data": {
      "application/vnd.jupyter.widget-view+json": {
       "model_id": "54b543811957490f8087923ef5524678",
       "version_major": 2,
       "version_minor": 0
      },
      "text/plain": [
       "Downloading:   0%|          | 0.00/1.43k [00:00<?, ?B/s]"
      ]
     },
     "metadata": {},
     "output_type": "display_data"
    },
    {
     "data": {
      "application/vnd.jupyter.widget-view+json": {
       "model_id": "2984c5b889e9407a9c56958077fb3f19",
       "version_major": 2,
       "version_minor": 0
      },
      "text/plain": [
       "Downloading:   0%|          | 0.00/84.5M [00:00<?, ?B/s]"
      ]
     },
     "metadata": {},
     "output_type": "display_data"
    },
    {
     "data": {
      "application/vnd.jupyter.widget-view+json": {
       "model_id": "e391d47f3ea4478bbb10fec7f09f9073",
       "version_major": 2,
       "version_minor": 0
      },
      "text/plain": [
       "Downloading:   0%|          | 0.00/110k [00:00<?, ?B/s]"
      ]
     },
     "metadata": {},
     "output_type": "display_data"
    },
    {
     "data": {
      "application/vnd.jupyter.widget-view+json": {
       "model_id": "1099d8a141964e5bb383fd6a9252deeb",
       "version_major": 2,
       "version_minor": 0
      },
      "text/plain": [
       "Downloading:   0%|          | 0.00/1.22k [00:00<?, ?B/s]"
      ]
     },
     "metadata": {},
     "output_type": "display_data"
    }
   ],
   "source": [
    "from speechbrain.pretrained import EncoderClassifier\n",
    "model = EncoderClassifier.from_hparams(\n",
    "  \"TalTechNLP/voxlingua107-epaca-tdnn\"\n",
    ")\n"
   ]
  },
  {
   "cell_type": "code",
   "execution_count": 15,
   "id": "bbd3c725",
   "metadata": {},
   "outputs": [
    {
     "name": "stdout",
     "output_type": "stream",
     "text": [
      "CPU times: user 28.4 s, sys: 3.92 s, total: 32.3 s\n",
      "Wall time: 29.8 s\n"
     ]
    }
   ],
   "source": [
    "%%time\n",
    "res = model.classify_file(\"out.wav\")"
   ]
  },
  {
   "cell_type": "code",
   "execution_count": 13,
   "id": "99145b64",
   "metadata": {},
   "outputs": [
    {
     "data": {
      "text/plain": [
       "tensor([[0.9504, 0.6220, 0.6040, 0.5885, 0.5837, 0.5818, 0.5776, 0.5729, 0.5703,\n",
       "         0.5659, 0.5632, 0.5631, 0.5600, 0.5499, 0.5490, 0.5441, 0.5416, 0.5396,\n",
       "         0.5390, 0.5380, 0.5357, 0.5356, 0.5332, 0.5330, 0.5323, 0.5307, 0.5300,\n",
       "         0.5300, 0.5293, 0.5289, 0.5257, 0.5253, 0.5236, 0.5225, 0.5212, 0.5206,\n",
       "         0.5192, 0.5146, 0.5139, 0.5134, 0.5121, 0.5118, 0.5116, 0.5109, 0.5094,\n",
       "         0.5083, 0.5081, 0.5070, 0.5056, 0.5049, 0.5038, 0.5013, 0.5002, 0.4997,\n",
       "         0.4966, 0.4952, 0.4943, 0.4940, 0.4933, 0.4924, 0.4909, 0.4903, 0.4903,\n",
       "         0.4888, 0.4873, 0.4867, 0.4847, 0.4843, 0.4834, 0.4829, 0.4825, 0.4813,\n",
       "         0.4788, 0.4785, 0.4784, 0.4765, 0.4764, 0.4760, 0.4747, 0.4747, 0.4738,\n",
       "         0.4724, 0.4724, 0.4692, 0.4678, 0.4666, 0.4650, 0.4650, 0.4633, 0.4604,\n",
       "         0.4579, 0.4566, 0.4555, 0.4534, 0.4533, 0.4506, 0.4411, 0.4411, 0.4410,\n",
       "         0.4401, 0.4388, 0.4377, 0.4375, 0.4349, 0.4273, 0.4270, 0.3977]])"
      ]
     },
     "execution_count": 13,
     "metadata": {},
     "output_type": "execute_result"
    }
   ],
   "source": [
    "res[0][0][res[0].argsort(descending=True)]"
   ]
  }
 ],
 "metadata": {
  "kernelspec": {
   "display_name": "Python (EDX)",
   "language": "python",
   "name": "edx_env"
  },
  "language_info": {
   "codemirror_mode": {
    "name": "ipython",
    "version": 3
   },
   "file_extension": ".py",
   "mimetype": "text/x-python",
   "name": "python",
   "nbconvert_exporter": "python",
   "pygments_lexer": "ipython3",
   "version": "3.9.6"
  }
 },
 "nbformat": 4,
 "nbformat_minor": 5
}
